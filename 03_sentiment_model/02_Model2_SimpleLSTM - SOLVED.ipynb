{
 "cells": [
  {
   "cell_type": "markdown",
   "metadata": {},
   "source": [
    "# Model template\n",
    "    - Preprocess data.\n",
    "    - Prepare sequences to model.\n",
    "    - Build model.\n",
    "    - Validate it.\n"
   ]
  },
  {
   "cell_type": "markdown",
   "metadata": {},
   "source": [
    "## Preprocess data"
   ]
  },
  {
   "cell_type": "code",
   "execution_count": 1,
   "metadata": {},
   "outputs": [
    {
     "name": "stdout",
     "output_type": "stream",
     "text": [
      "Tensorflow version:  1.3.0\n"
     ]
    }
   ],
   "source": [
    "# Header\n",
    "from __future__ import print_function\n",
    "\n",
    "import numpy as np\n",
    "import tensorflow as tf\n",
    "print('Tensorflow version: ', tf.__version__)\n",
    "import time\n",
    "\n",
    "#Show images\n",
    "import matplotlib.pyplot as plt\n",
    "%matplotlib inline\n",
    "# plt configuration\n",
    "plt.rcParams['figure.figsize'] = (10, 10)        # size of images\n",
    "plt.rcParams['image.interpolation'] = 'nearest'  # show exact image\n",
    "#plt.rcParams['image.cmap'] = 'gray'  # use grayscale \n",
    "\n",
    "\n",
    "# GPU devices visible by python\n",
    "import os\n",
    "os.environ[\"CUDA_DEVICE_ORDER\"]=\"PCI_BUS_ID\" \n",
    "os.environ[\"CUDA_VISIBLE_DEVICES\"]=\"0\""
   ]
  },
  {
   "cell_type": "code",
   "execution_count": 2,
   "metadata": {},
   "outputs": [
    {
     "name": "stdout",
     "output_type": "stream",
     "text": [
      "(25000, 200) (25000,)\n",
      "(25000, 200) (25000,)\n"
     ]
    }
   ],
   "source": [
    "# Import train and test data\n",
    "# GPU path\n",
    "#data_path='/home/ubuntu/data/training/text/sentiment/aclImdb/'\n",
    "\n",
    "data_path='/Users/jorge/data/training/text/sentiment/aclImdb/'\n",
    "\n",
    "X_train = np.load(data_path + 'X_train.npy')\n",
    "y_train = np.load(data_path + 'y_train.npy')\n",
    "X_test  = np.load(data_path + 'X_test.npy')\n",
    "y_test  = np.load(data_path + 'y_test.npy')\n",
    "\n",
    "print(X_train.shape, y_train.shape)\n",
    "print(X_test.shape, y_test.shape)"
   ]
  },
  {
   "cell_type": "markdown",
   "metadata": {},
   "source": [
    "## Prepare sequences to model\n"
   ]
  },
  {
   "cell_type": "code",
   "execution_count": 3,
   "metadata": {},
   "outputs": [
    {
     "name": "stdout",
     "output_type": "stream",
     "text": [
      "Pad sequences (samples x time)\n",
      "X_train shape: (25000, 100)\n",
      "X_test shape: (25000, 100)\n"
     ]
    }
   ],
   "source": [
    "max_features = 20000 # Number of most frequent words selected. the less frequent recode to 0\n",
    "max_len = 100  # cut texts after this number of words (among top max_features most common words)\n",
    "\n",
    "\n",
    "#Select the most frequent max_features, recode others using 0\n",
    "def remove_features(dataset):\n",
    "    return [[0 if w >= max_features else w for w in sen] for sen in dataset]\n",
    "\n",
    "X_train = remove_features(X_train)\n",
    "X_test  = remove_features(X_test )\n",
    "\n",
    "\n",
    "# Cut or complete the sentences to length = maxlen\n",
    "from tensorflow.contrib.keras import preprocessing\n",
    "\n",
    "print(\"Pad sequences (samples x time)\")\n",
    "X_train = preprocessing.sequence.pad_sequences(X_train, maxlen=max_len)\n",
    "X_test  = preprocessing.sequence.pad_sequences(X_test,  maxlen=max_len)\n",
    "print('X_train shape:', X_train.shape)\n",
    "print('X_test shape:' , X_test.shape )\n"
   ]
  },
  {
   "cell_type": "markdown",
   "metadata": {},
   "source": [
    "## Build model"
   ]
  },
  {
   "cell_type": "code",
   "execution_count": 4,
   "metadata": {},
   "outputs": [
    {
     "name": "stdout",
     "output_type": "stream",
     "text": [
      "Build model 1 - Basic model...\n",
      "_________________________________________________________________\n",
      "Layer (type)                 Output Shape              Param #   \n",
      "=================================================================\n",
      "input_1 (InputLayer)         (None, 100)               0         \n",
      "_________________________________________________________________\n",
      "embedding_1 (Embedding)      (None, 100, 128)          2560000   \n",
      "_________________________________________________________________\n",
      "Forward (LSTM)               (None, 128)               131584    \n",
      "_________________________________________________________________\n",
      "dense_1 (Dense)              (None, 2)                 258       \n",
      "=================================================================\n",
      "Total params: 2,691,842\n",
      "Trainable params: 2,691,842\n",
      "Non-trainable params: 0\n",
      "_________________________________________________________________\n"
     ]
    }
   ],
   "source": [
    "# Model\n",
    "dim_embedings = 128 #Dimension of the embedings vector\n",
    "num_hidden_rnn = 128 #Num of neurons in the Recurent network \n",
    "\n",
    "from tensorflow.contrib.keras import layers, models, optimizers\n",
    "\n",
    "print('Build model 1 - Basic model...')\n",
    "\n",
    "# LAYER 1: inputs\n",
    "seq_prev_input = layers.Input(shape=(max_len, ), dtype='int32') \n",
    "\n",
    "# LAYER 2: Create embedings\n",
    "embeds = layers.Embedding(max_features, dim_embedings, input_length=max_len)(seq_prev_input)\n",
    "\n",
    "# LAYERS 3: RNN - forwards LSTM with dropout\n",
    "rnn_out = layers.LSTM(num_hidden_rnn, return_sequences=False, name='Forward')(embeds)\n",
    "\n",
    "# LAYER 4: Dense layer to outputs - softmax activation\n",
    "output = layers.Dense(2, activation='softmax')(rnn_out)\n",
    "\n",
    "# Model Architecture defined\n",
    "model_1 = models.Model(inputs=seq_prev_input, outputs=output)\n",
    "model_1.summary()\n",
    "\n",
    "# Compile model and select optimizer\n",
    "rms_optimizer = optimizers.RMSprop(lr=0.001)\n",
    "model_1.compile(loss='sparse_categorical_crossentropy', optimizer=rms_optimizer, metrics=['accuracy'])\n"
   ]
  },
  {
   "cell_type": "code",
   "execution_count": 5,
   "metadata": {},
   "outputs": [
    {
     "data": {
      "text/plain": [
       "<matplotlib.image.AxesImage at 0x10b5c69e8>"
      ]
     },
     "execution_count": 5,
     "metadata": {},
     "output_type": "execute_result"
    },
    {
     "data": {
      "image/png": "[encoded data removed]",
      "text/plain": [
       "<matplotlib.figure.Figure at 0x125ef8710>"
      ]
     },
     "metadata": {},
     "output_type": "display_data"
    }
   ],
   "source": [
    "#Plot the model graph\n",
    "from tensorflow.contrib.keras import utils\n",
    "\n",
    "# Create model image\n",
    "utils.plot_model(model_1, '/tmp/model1.png')\n",
    "\n",
    "# Show image\n",
    "plt.imshow(plt.imread('/tmp/model1.png'))\n"
   ]
  },
  {
   "cell_type": "code",
   "execution_count": 6,
   "metadata": {},
   "outputs": [
    {
     "name": "stdout",
     "output_type": "stream",
     "text": [
      "Train...\n",
      "Train on 25000 samples, validate on 25000 samples\n",
      "Epoch 1/10\n",
      "25000/25000 [==============================] - 132s - loss: 0.6938 - acc: 0.5483 - val_loss: 0.6157 - val_acc: 0.6784\n",
      "Epoch 2/10\n",
      "25000/25000 [==============================] - 133s - loss: 0.5932 - acc: 0.6795 - val_loss: 0.5599 - val_acc: 0.7062\n",
      "Epoch 3/10\n",
      "25000/25000 [==============================] - 131s - loss: 0.4523 - acc: 0.7871 - val_loss: 0.4307 - val_acc: 0.7977\n",
      "Epoch 4/10\n",
      "25000/25000 [==============================] - 134s - loss: 0.3610 - acc: 0.8402 - val_loss: 0.4120 - val_acc: 0.8095\n",
      "Epoch 5/10\n",
      "25000/25000 [==============================] - 130s - loss: 0.2939 - acc: 0.8744 - val_loss: 0.4819 - val_acc: 0.7982\n",
      "Epoch 6/10\n",
      "25000/25000 [==============================] - 130s - loss: 0.2483 - acc: 0.8983 - val_loss: 0.3828 - val_acc: 0.8254\n",
      "Epoch 7/10\n",
      "25000/25000 [==============================] - 130s - loss: 0.2103 - acc: 0.9155 - val_loss: 0.3701 - val_acc: 0.8452\n",
      "Epoch 8/10\n",
      "25000/25000 [==============================] - 130s - loss: 0.1781 - acc: 0.9295 - val_loss: 0.4964 - val_acc: 0.7978\n",
      "Epoch 9/10\n",
      "25000/25000 [==============================] - 130s - loss: 0.1507 - acc: 0.9433 - val_loss: 0.3882 - val_acc: 0.8486\n",
      "Epoch 10/10\n",
      "25000/25000 [==============================] - 130s - loss: 0.1231 - acc: 0.9540 - val_loss: 0.4441 - val_acc: 0.8310\n"
     ]
    }
   ],
   "source": [
    "# Train\n",
    "batch_size = 128\n",
    "\n",
    "print(\"Train...\")\n",
    "history = model_1.fit(X_train, y_train, batch_size=batch_size, epochs=10,\n",
    "                      validation_data=(X_test, y_test))"
   ]
  },
  {
   "cell_type": "raw",
   "metadata": {},
   "source": [
    "GPU execution\n",
    "\n",
    "Train...\n",
    "Train on 25000 samples, validate on 25000 samples\n",
    "Epoch 1/10\n",
    "25000/25000 [==============================] - 38s - loss: 0.6916 - acc: 0.5501 - val_loss: 0.7063 - val_acc: 0.5347\n",
    "Epoch 2/10\n",
    "25000/25000 [==============================] - 37s - loss: 0.5948 - acc: 0.6725 - val_loss: 0.5717 - val_acc: 0.6815\n",
    "Epoch 3/10\n",
    "25000/25000 [==============================] - 38s - loss: 0.4601 - acc: 0.7791 - val_loss: 0.4682 - val_acc: 0.7703\n",
    "Epoch 4/10\n",
    "25000/25000 [==============================] - 38s - loss: 0.3602 - acc: 0.8381 - val_loss: 0.3711 - val_acc: 0.8347\n",
    "Epoch 5/10\n",
    "25000/25000 [==============================] - 38s - loss: 0.2955 - acc: 0.8732 - val_loss: 0.3720 - val_acc: 0.8362\n",
    "Epoch 6/10\n",
    "25000/25000 [==============================] - 38s - loss: 0.2486 - acc: 0.8956 - val_loss: 0.3824 - val_acc: 0.8258\n",
    "Epoch 7/10\n",
    "25000/25000 [==============================] - 37s - loss: 0.2094 - acc: 0.9168 - val_loss: 0.4673 - val_acc: 0.7997\n",
    "Epoch 8/10\n",
    "25000/25000 [==============================] - 37s - loss: 0.1773 - acc: 0.9312 - val_loss: 0.3980 - val_acc: 0.8358\n",
    "Epoch 9/10\n",
    "25000/25000 [==============================] - 37s - loss: 0.1434 - acc: 0.9454 - val_loss: 0.4451 - val_acc: 0.8396\n",
    "Epoch 10/10\n",
    "25000/25000 [==============================] - 38s - loss: 0.1218 - acc: 0.9555 - val_loss: 0.4939 - val_acc: 0.8328"
   ]
  },
  {
   "cell_type": "code",
   "execution_count": 7,
   "metadata": {},
   "outputs": [
    {
     "data": {
      "image/png": "[encoded data removed]",
      "text/plain": [
       "<matplotlib.figure.Figure at 0x11fed15c0>"
      ]
     },
     "metadata": {},
     "output_type": "display_data"
    }
   ],
   "source": [
    "#Plot graphs in the notebook output\n",
    "plt.plot(history.history['acc'])\n",
    "plt.plot(history.history['val_acc'])\n",
    "plt.show()"
   ]
  },
  {
   "cell_type": "markdown",
   "metadata": {},
   "source": [
    "## Validate it"
   ]
  },
  {
   "cell_type": "code",
   "execution_count": 8,
   "metadata": {},
   "outputs": [
    {
     "name": "stdout",
     "output_type": "stream",
     "text": [
      "(25000, 2)\n"
     ]
    }
   ],
   "source": [
    "# Score and obtain probabilities\n",
    "pred_test = model_1.predict(X_test)\n",
    "print(pred_test.shape)"
   ]
  },
  {
   "cell_type": "code",
   "execution_count": 9,
   "metadata": {},
   "outputs": [
    {
     "name": "stdout",
     "output_type": "stream",
     "text": [
      "0.83104\n",
      "AUC:  0.920337328\n"
     ]
    },
    {
     "data": {
      "text/plain": [
       "[<matplotlib.lines.Line2D at 0x1256fb320>]"
      ]
     },
     "execution_count": 9,
     "metadata": {},
     "output_type": "execute_result"
    },
    {
     "data": {
      "image/png": "[encoded data removed]",
      "text/plain": [
       "<matplotlib.figure.Figure at 0x11ffb1f60>"
      ]
     },
     "metadata": {},
     "output_type": "display_data"
    }
   ],
   "source": [
    "#Import metrics\n",
    "from sklearn.metrics import roc_curve, auc, accuracy_score\n",
    "\n",
    "#Calculate accuracy with sklearn\n",
    "print(accuracy_score(y_test, [1 if p>0.5 else 0 for p in pred_test[:,1]]))\n",
    "\n",
    "#Calculate ROC curve\n",
    "fpr, tpr, _ = roc_curve(y_test, pred_test[:,1])\n",
    "print('AUC: ', auc(fpr, tpr)  )\n",
    "\n",
    "#Plot ROC curve\n",
    "plt.plot(fpr, tpr)"
   ]
  },
  {
   "cell_type": "code",
   "execution_count": 10,
   "metadata": {
    "collapsed": true
   },
   "outputs": [],
   "source": [
    "# Score new text\n",
    "\n",
    "# Load dictionary\n",
    "import pickle\n",
    "with open(data_path + 'worddict.pickle', 'rb') as pfile:\n",
    "    worddict = pickle.load(pfile)\n",
    "\n",
    "    \n",
    "def tokenize(sentences):\n",
    "    from nltk import word_tokenize\n",
    "    tokens = []\n",
    "    for sentence in sentences:\n",
    "        tokens += [word_tokenize(sentence)]\n",
    "    return tokens\n",
    "\n",
    "\n",
    "def generate_sequence(sentences, dictionary):\n",
    "    seqs = [None] * len(sentences)\n",
    "    for idx, ss in enumerate(sentences):\n",
    "        seqs[idx] = [dictionary[w] if w in dictionary else 1 for w in ss]\n",
    "    return seqs\n",
    "\n",
    "\n",
    "def remove_features(x):\n",
    "    return [[0 if w >= max_features else w for w in sen] for sen in x]\n",
    "\n",
    "\n",
    "def score_new_text(text):\n",
    "    seq = generate_sequence(tokenize([text]), worddict)\n",
    "    seq = remove_features(seq)\n",
    "    seq = preprocessing.sequence.pad_sequences(seq, maxlen=max_len)\n",
    "    pred_test = model_1.predict(seq, batch_size=1)\n",
    "    return float(pred_test[:,1])\n"
   ]
  },
  {
   "cell_type": "code",
   "execution_count": 11,
   "metadata": {},
   "outputs": [
    {
     "name": "stdout",
     "output_type": "stream",
     "text": [
      "You have to start worrying when you see that Michael Madsen is leading the Cast of any movie. I wont go through the list of shame that is his movie career.<br /><br />I watched 45 minutes and still was not sure what really was going on. The movie consisted of a love hate relationship between Madsen and Argento, Which basically was Madsen insulting her, threatening violence and generally treating her like dirt. She on the other hand loves him, then shes doesn't, then she does, the she desires him, then she loves him again......whats wrong with you woman !!!! <br /><br />The Script is awful, lousy soundtrack and pointless aggressive and crude sexuality which i believe was added to entice some viewers as the movie has little else to offer. I would have given the movie a 1 but it just about managed a 2 with a little excitement in the last 20 minutes. It did actually answer one question in the final few minutes but i am not going to share that, i will make you suffer for the full movie like i did.\n",
      "Positive score: 0.014574837870895863\n"
     ]
    }
   ],
   "source": [
    "#Evaluate one negative record\n",
    "\n",
    "text = \"You have to start worrying when you see that Michael Madsen is leading the Cast of any movie. I wont go through the list of shame that is his movie career.<br /><br />I watched 45 minutes and still was not sure what really was going on. The movie consisted of a love hate relationship between Madsen and Argento, Which basically was Madsen insulting her, threatening violence and generally treating her like dirt. She on the other hand loves him, then shes doesn't, then she does, the she desires him, then she loves him again......whats wrong with you woman !!!! <br /><br />The Script is awful, lousy soundtrack and pointless aggressive and crude sexuality which i believe was added to entice some viewers as the movie has little else to offer. I would have given the movie a 1 but it just about managed a 2 with a little excitement in the last 20 minutes. It did actually answer one question in the final few minutes but i am not going to share that, i will make you suffer for the full movie like i did.\"\n",
    "print(text)\n",
    "print('Positive score:', score_new_text(text))"
   ]
  },
  {
   "cell_type": "code",
   "execution_count": 12,
   "metadata": {},
   "outputs": [
    {
     "name": "stdout",
     "output_type": "stream",
     "text": [
      "The distribution was good, the subject could have been interessant and comic. whereas, he described the wandering of an old non credible communist looking for loving sensations. Instead of this, the atmosphere is nor lively nor heavy.\n",
      "Positive score: 0.9861078262329102\n"
     ]
    }
   ],
   "source": [
    "#Evaluate one positive record\n",
    "\n",
    "text = \"The distribution was good, the subject could have been interessant and comic. whereas, he described the wandering of an old non credible communist looking for loving sensations. Instead of this, the atmosphere is nor lively nor heavy.\"\n",
    "print(text)\n",
    "print('Positive score:', score_new_text(text))"
   ]
  },
  {
   "cell_type": "code",
   "execution_count": null,
   "metadata": {
    "collapsed": true
   },
   "outputs": [],
   "source": []
  }
 ],
 "metadata": {
  "anaconda-cloud": {},
  "kernelspec": {
   "display_name": "Python 3",
   "language": "python",
   "name": "python3"
  },
  "language_info": {
   "codemirror_mode": {
    "name": "ipython",
    "version": 3
   },
   "file_extension": ".py",
   "mimetype": "text/x-python",
   "name": "python",
   "nbconvert_exporter": "python",
   "pygments_lexer": "ipython3",
   "version": "3.5.4"
  }
 },
 "nbformat": 4,
 "nbformat_minor": 1
}
